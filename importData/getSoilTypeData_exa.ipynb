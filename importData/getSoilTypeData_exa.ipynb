{
 "cells": [
  {
   "cell_type": "code",
   "execution_count": 1,
   "metadata": {},
   "outputs": [],
   "source": [
    "import requests\n",
    "import pandas as pd\n",
    "import numpy as np"
   ]
  },
  {
   "cell_type": "markdown",
   "metadata": {},
   "source": [
    "# soil properties\n",
    "- for one coordinaters\n",
    "- for one property"
   ]
  },
  {
   "cell_type": "markdown",
   "metadata": {},
   "source": [
    " Varaibles\n",
    " - Physical soil properties\n",
    "     - BLDFIE: Bulk Density ('kg/cubic_m')\n",
    "     - CLYPPT: Caly Content (percent)\n",
    "     - CRFVOL: Coarse Fragements Volumetric (%) (percent)\n",
    "     - SLTPPT: Slit Content (percent)\n",
    "     - SNDPPT: Sand Content (percent)\n",
    " - Chemical Soil Properties\n",
    "     - CECSOL: Cation Excahnge capacit of soil (cmol / kg)\n",
    "     - ORCDRC: Soil organic carbon content (g / kg)\n",
    "     - PHIHOX: Soil pH * 10 in H20 (Index*10)\n",
    "     - PHIKCL: Soil pH * 10 in KCL (Index*10)"
   ]
  },
  {
   "cell_type": "markdown",
   "metadata": {},
   "source": [
    "## first we keep 2 decimals for the lat and long "
   ]
  },
  {
   "cell_type": "code",
   "execution_count": 59,
   "metadata": {},
   "outputs": [],
   "source": [
    "#soilProperties =['BLDFIE','CLYPPT','CRFVOL','SLTPPT', 'SNDPPT','CECSOL','ORCDRC','PHIHOX','PHIKCL']\n",
    "lat = round(-77.85,2)\n",
    "long = round( 166.76,2)\n",
    "\n",
    "# lat = round(29.1,2)\n",
    "# long = round(-81.633,2)\n",
    "webPath = \"https://rest.soilgrids.org/query?lon=\"\n",
    "property = 'BLDFIE'\n",
    "resp = requests.get(webPath + str(round(long,2)) +\n",
    "        \"&lat=\" + str(round(lat,2)) + \"&attributes=%s\"%str(property))"
   ]
  },
  {
   "cell_type": "markdown",
   "metadata": {},
   "source": [
    "## no this property existed"
   ]
  },
  {
   "cell_type": "code",
   "execution_count": 65,
   "metadata": {},
   "outputs": [
    {
     "name": "stdout",
     "output_type": "stream",
     "text": [
      "there is no this property existed for the coordinates\n",
      "yes\n"
     ]
    }
   ],
   "source": [
    "# if there is no this property existed for the coordinates\n",
    "# then keep one decimals\n",
    "if (property not in pd.DataFrame(resp.json()).index) == True:\n",
    "    print ('there is no this property existed for the coordinates')\n",
    "    resp = requests.get(webPath + str(round(long, 1)) +\n",
    "                        \"&lat=\" + str(round(lat, 1)) + \"&attributes=%s\" % str(property))\n",
    "    \n",
    "    if resp.json()['properties']['soilmask'] == 'nodata':\n",
    "        print('yes')\n",
    "\n",
    "\n",
    "    "
   ]
  },
  {
   "cell_type": "code",
   "execution_count": 52,
   "metadata": {},
   "outputs": [
    {
     "data": {
      "text/plain": [
       "Index(['type', 'coordinates', 'properties', 'soilmask', 'BLDFIE',\n",
       "       'depthCodesMeters', 'publication_date'],\n",
       "      dtype='object')"
      ]
     },
     "execution_count": 52,
     "metadata": {},
     "output_type": "execute_result"
    }
   ],
   "source": [
    "pd.DataFrame(resp.json()).index"
   ]
  },
  {
   "cell_type": "code",
   "execution_count": 49,
   "metadata": {},
   "outputs": [
    {
     "data": {
      "text/plain": [
       "True"
      ]
     },
     "execution_count": 49,
     "metadata": {},
     "output_type": "execute_result"
    }
   ],
   "source": [
    "'properties' in resp.json()"
   ]
  },
  {
   "cell_type": "code",
   "execution_count": 34,
   "metadata": {},
   "outputs": [],
   "source": [
    "resp =  requests.get(webPath + str(round(long, 2)) +\n",
    "                        \"&lat=\" + str(round(lat, 2)) + \"&attributes=%s\" % str(property))"
   ]
  },
  {
   "cell_type": "code",
   "execution_count": 50,
   "metadata": {},
   "outputs": [
    {
     "data": {
      "text/plain": [
       "dict_keys(['type', 'geometry', 'crs', 'timestamp', 'raw', 'properties'])"
      ]
     },
     "execution_count": 50,
     "metadata": {},
     "output_type": "execute_result"
    }
   ],
   "source": [
    "resp.json().keys()"
   ]
  },
  {
   "cell_type": "code",
   "execution_count": 57,
   "metadata": {},
   "outputs": [
    {
     "data": {
      "text/plain": [
       "'soil'"
      ]
     },
     "execution_count": 57,
     "metadata": {},
     "output_type": "execute_result"
    }
   ],
   "source": [
    "resp.json()['properties']['soilmask'] == "
   ]
  },
  {
   "cell_type": "code",
   "execution_count": 60,
   "metadata": {},
   "outputs": [
    {
     "data": {
      "text/plain": [
       "dict_keys(['type', 'geometry', 'crs', 'timestamp', 'raw', 'properties'])"
      ]
     },
     "execution_count": 60,
     "metadata": {},
     "output_type": "execute_result"
    }
   ],
   "source": [
    "resp.json().keys()"
   ]
  },
  {
   "cell_type": "code",
   "execution_count": 63,
   "metadata": {},
   "outputs": [
    {
     "data": {
      "text/plain": [
       "True"
      ]
     },
     "execution_count": 63,
     "metadata": {},
     "output_type": "execute_result"
    }
   ],
   "source": [
    "resp.json()['properties']['soilmask'] == 'nodata'"
   ]
  },
  {
   "cell_type": "code",
   "execution_count": 21,
   "metadata": {},
   "outputs": [
    {
     "ename": "KeyError",
     "evalue": "'BLDFIE'",
     "output_type": "error",
     "traceback": [
      "\u001b[1;31m---------------------------------------------------------------------------\u001b[0m",
      "\u001b[1;31mKeyError\u001b[0m                                  Traceback (most recent call last)",
      "\u001b[1;32mD:\\ProgramData\\Miniconda3\\lib\\site-packages\\pandas\\core\\indexes\\base.py\u001b[0m in \u001b[0;36mget_loc\u001b[1;34m(self, key, method, tolerance)\u001b[0m\n\u001b[0;32m   2896\u001b[0m             \u001b[1;32mtry\u001b[0m\u001b[1;33m:\u001b[0m\u001b[1;33m\u001b[0m\u001b[1;33m\u001b[0m\u001b[0m\n\u001b[1;32m-> 2897\u001b[1;33m                 \u001b[1;32mreturn\u001b[0m \u001b[0mself\u001b[0m\u001b[1;33m.\u001b[0m\u001b[0m_engine\u001b[0m\u001b[1;33m.\u001b[0m\u001b[0mget_loc\u001b[0m\u001b[1;33m(\u001b[0m\u001b[0mkey\u001b[0m\u001b[1;33m)\u001b[0m\u001b[1;33m\u001b[0m\u001b[1;33m\u001b[0m\u001b[0m\n\u001b[0m\u001b[0;32m   2898\u001b[0m             \u001b[1;32mexcept\u001b[0m \u001b[0mKeyError\u001b[0m\u001b[1;33m:\u001b[0m\u001b[1;33m\u001b[0m\u001b[1;33m\u001b[0m\u001b[0m\n",
      "\u001b[1;32mpandas\\_libs\\index.pyx\u001b[0m in \u001b[0;36mpandas._libs.index.IndexEngine.get_loc\u001b[1;34m()\u001b[0m\n",
      "\u001b[1;32mpandas\\_libs\\index.pyx\u001b[0m in \u001b[0;36mpandas._libs.index.IndexEngine.get_loc\u001b[1;34m()\u001b[0m\n",
      "\u001b[1;32mpandas\\_libs\\hashtable_class_helper.pxi\u001b[0m in \u001b[0;36mpandas._libs.hashtable.PyObjectHashTable.get_item\u001b[1;34m()\u001b[0m\n",
      "\u001b[1;32mpandas\\_libs\\hashtable_class_helper.pxi\u001b[0m in \u001b[0;36mpandas._libs.hashtable.PyObjectHashTable.get_item\u001b[1;34m()\u001b[0m\n",
      "\u001b[1;31mKeyError\u001b[0m: 'BLDFIE'",
      "\nDuring handling of the above exception, another exception occurred:\n",
      "\u001b[1;31mKeyError\u001b[0m                                  Traceback (most recent call last)",
      "\u001b[1;32m<ipython-input-21-c9cf93f49536>\u001b[0m in \u001b[0;36m<module>\u001b[1;34m\u001b[0m\n\u001b[0;32m      1\u001b[0m \u001b[1;31m# get the data with one property\u001b[0m\u001b[1;33m\u001b[0m\u001b[1;33m\u001b[0m\u001b[1;33m\u001b[0m\u001b[0m\n\u001b[1;32m----> 2\u001b[1;33m \u001b[0msigData\u001b[0m \u001b[1;33m=\u001b[0m \u001b[0mpd\u001b[0m\u001b[1;33m.\u001b[0m\u001b[0mDataFrame\u001b[0m\u001b[1;33m(\u001b[0m\u001b[0mresp\u001b[0m\u001b[1;33m.\u001b[0m\u001b[0mjson\u001b[0m\u001b[1;33m(\u001b[0m\u001b[1;33m)\u001b[0m\u001b[1;33m)\u001b[0m\u001b[1;33m.\u001b[0m\u001b[0mloc\u001b[0m\u001b[1;33m[\u001b[0m\u001b[0mproperty\u001b[0m\u001b[1;33m]\u001b[0m\u001b[1;33m\u001b[0m\u001b[1;33m\u001b[0m\u001b[0m\n\u001b[0m",
      "\u001b[1;32mD:\\ProgramData\\Miniconda3\\lib\\site-packages\\pandas\\core\\indexing.py\u001b[0m in \u001b[0;36m__getitem__\u001b[1;34m(self, key)\u001b[0m\n\u001b[0;32m   1422\u001b[0m \u001b[1;33m\u001b[0m\u001b[0m\n\u001b[0;32m   1423\u001b[0m             \u001b[0mmaybe_callable\u001b[0m \u001b[1;33m=\u001b[0m \u001b[0mcom\u001b[0m\u001b[1;33m.\u001b[0m\u001b[0mapply_if_callable\u001b[0m\u001b[1;33m(\u001b[0m\u001b[0mkey\u001b[0m\u001b[1;33m,\u001b[0m \u001b[0mself\u001b[0m\u001b[1;33m.\u001b[0m\u001b[0mobj\u001b[0m\u001b[1;33m)\u001b[0m\u001b[1;33m\u001b[0m\u001b[1;33m\u001b[0m\u001b[0m\n\u001b[1;32m-> 1424\u001b[1;33m             \u001b[1;32mreturn\u001b[0m \u001b[0mself\u001b[0m\u001b[1;33m.\u001b[0m\u001b[0m_getitem_axis\u001b[0m\u001b[1;33m(\u001b[0m\u001b[0mmaybe_callable\u001b[0m\u001b[1;33m,\u001b[0m \u001b[0maxis\u001b[0m\u001b[1;33m=\u001b[0m\u001b[0maxis\u001b[0m\u001b[1;33m)\u001b[0m\u001b[1;33m\u001b[0m\u001b[1;33m\u001b[0m\u001b[0m\n\u001b[0m\u001b[0;32m   1425\u001b[0m \u001b[1;33m\u001b[0m\u001b[0m\n\u001b[0;32m   1426\u001b[0m     \u001b[1;32mdef\u001b[0m \u001b[0m_is_scalar_access\u001b[0m\u001b[1;33m(\u001b[0m\u001b[0mself\u001b[0m\u001b[1;33m,\u001b[0m \u001b[0mkey\u001b[0m\u001b[1;33m:\u001b[0m \u001b[0mTuple\u001b[0m\u001b[1;33m)\u001b[0m\u001b[1;33m:\u001b[0m\u001b[1;33m\u001b[0m\u001b[1;33m\u001b[0m\u001b[0m\n",
      "\u001b[1;32mD:\\ProgramData\\Miniconda3\\lib\\site-packages\\pandas\\core\\indexing.py\u001b[0m in \u001b[0;36m_getitem_axis\u001b[1;34m(self, key, axis)\u001b[0m\n\u001b[0;32m   1848\u001b[0m         \u001b[1;31m# fall thru to straight lookup\u001b[0m\u001b[1;33m\u001b[0m\u001b[1;33m\u001b[0m\u001b[1;33m\u001b[0m\u001b[0m\n\u001b[0;32m   1849\u001b[0m         \u001b[0mself\u001b[0m\u001b[1;33m.\u001b[0m\u001b[0m_validate_key\u001b[0m\u001b[1;33m(\u001b[0m\u001b[0mkey\u001b[0m\u001b[1;33m,\u001b[0m \u001b[0maxis\u001b[0m\u001b[1;33m)\u001b[0m\u001b[1;33m\u001b[0m\u001b[1;33m\u001b[0m\u001b[0m\n\u001b[1;32m-> 1850\u001b[1;33m         \u001b[1;32mreturn\u001b[0m \u001b[0mself\u001b[0m\u001b[1;33m.\u001b[0m\u001b[0m_get_label\u001b[0m\u001b[1;33m(\u001b[0m\u001b[0mkey\u001b[0m\u001b[1;33m,\u001b[0m \u001b[0maxis\u001b[0m\u001b[1;33m=\u001b[0m\u001b[0maxis\u001b[0m\u001b[1;33m)\u001b[0m\u001b[1;33m\u001b[0m\u001b[1;33m\u001b[0m\u001b[0m\n\u001b[0m\u001b[0;32m   1851\u001b[0m \u001b[1;33m\u001b[0m\u001b[0m\n\u001b[0;32m   1852\u001b[0m \u001b[1;33m\u001b[0m\u001b[0m\n",
      "\u001b[1;32mD:\\ProgramData\\Miniconda3\\lib\\site-packages\\pandas\\core\\indexing.py\u001b[0m in \u001b[0;36m_get_label\u001b[1;34m(self, label, axis)\u001b[0m\n\u001b[0;32m    158\u001b[0m             \u001b[1;32mraise\u001b[0m \u001b[0mIndexingError\u001b[0m\u001b[1;33m(\u001b[0m\u001b[1;34m\"no slices here, handle elsewhere\"\u001b[0m\u001b[1;33m)\u001b[0m\u001b[1;33m\u001b[0m\u001b[1;33m\u001b[0m\u001b[0m\n\u001b[0;32m    159\u001b[0m \u001b[1;33m\u001b[0m\u001b[0m\n\u001b[1;32m--> 160\u001b[1;33m         \u001b[1;32mreturn\u001b[0m \u001b[0mself\u001b[0m\u001b[1;33m.\u001b[0m\u001b[0mobj\u001b[0m\u001b[1;33m.\u001b[0m\u001b[0m_xs\u001b[0m\u001b[1;33m(\u001b[0m\u001b[0mlabel\u001b[0m\u001b[1;33m,\u001b[0m \u001b[0maxis\u001b[0m\u001b[1;33m=\u001b[0m\u001b[0maxis\u001b[0m\u001b[1;33m)\u001b[0m\u001b[1;33m\u001b[0m\u001b[1;33m\u001b[0m\u001b[0m\n\u001b[0m\u001b[0;32m    161\u001b[0m \u001b[1;33m\u001b[0m\u001b[0m\n\u001b[0;32m    162\u001b[0m     \u001b[1;32mdef\u001b[0m \u001b[0m_get_loc\u001b[0m\u001b[1;33m(\u001b[0m\u001b[0mself\u001b[0m\u001b[1;33m,\u001b[0m \u001b[0mkey\u001b[0m\u001b[1;33m:\u001b[0m \u001b[0mint\u001b[0m\u001b[1;33m,\u001b[0m \u001b[0maxis\u001b[0m\u001b[1;33m:\u001b[0m \u001b[0mint\u001b[0m\u001b[1;33m)\u001b[0m\u001b[1;33m:\u001b[0m\u001b[1;33m\u001b[0m\u001b[1;33m\u001b[0m\u001b[0m\n",
      "\u001b[1;32mD:\\ProgramData\\Miniconda3\\lib\\site-packages\\pandas\\core\\generic.py\u001b[0m in \u001b[0;36mxs\u001b[1;34m(self, key, axis, level, drop_level)\u001b[0m\n\u001b[0;32m   3735\u001b[0m             \u001b[0mloc\u001b[0m\u001b[1;33m,\u001b[0m \u001b[0mnew_index\u001b[0m \u001b[1;33m=\u001b[0m \u001b[0mself\u001b[0m\u001b[1;33m.\u001b[0m\u001b[0mindex\u001b[0m\u001b[1;33m.\u001b[0m\u001b[0mget_loc_level\u001b[0m\u001b[1;33m(\u001b[0m\u001b[0mkey\u001b[0m\u001b[1;33m,\u001b[0m \u001b[0mdrop_level\u001b[0m\u001b[1;33m=\u001b[0m\u001b[0mdrop_level\u001b[0m\u001b[1;33m)\u001b[0m\u001b[1;33m\u001b[0m\u001b[1;33m\u001b[0m\u001b[0m\n\u001b[0;32m   3736\u001b[0m         \u001b[1;32melse\u001b[0m\u001b[1;33m:\u001b[0m\u001b[1;33m\u001b[0m\u001b[1;33m\u001b[0m\u001b[0m\n\u001b[1;32m-> 3737\u001b[1;33m             \u001b[0mloc\u001b[0m \u001b[1;33m=\u001b[0m \u001b[0mself\u001b[0m\u001b[1;33m.\u001b[0m\u001b[0mindex\u001b[0m\u001b[1;33m.\u001b[0m\u001b[0mget_loc\u001b[0m\u001b[1;33m(\u001b[0m\u001b[0mkey\u001b[0m\u001b[1;33m)\u001b[0m\u001b[1;33m\u001b[0m\u001b[1;33m\u001b[0m\u001b[0m\n\u001b[0m\u001b[0;32m   3738\u001b[0m \u001b[1;33m\u001b[0m\u001b[0m\n\u001b[0;32m   3739\u001b[0m             \u001b[1;32mif\u001b[0m \u001b[0misinstance\u001b[0m\u001b[1;33m(\u001b[0m\u001b[0mloc\u001b[0m\u001b[1;33m,\u001b[0m \u001b[0mnp\u001b[0m\u001b[1;33m.\u001b[0m\u001b[0mndarray\u001b[0m\u001b[1;33m)\u001b[0m\u001b[1;33m:\u001b[0m\u001b[1;33m\u001b[0m\u001b[1;33m\u001b[0m\u001b[0m\n",
      "\u001b[1;32mD:\\ProgramData\\Miniconda3\\lib\\site-packages\\pandas\\core\\indexes\\base.py\u001b[0m in \u001b[0;36mget_loc\u001b[1;34m(self, key, method, tolerance)\u001b[0m\n\u001b[0;32m   2897\u001b[0m                 \u001b[1;32mreturn\u001b[0m \u001b[0mself\u001b[0m\u001b[1;33m.\u001b[0m\u001b[0m_engine\u001b[0m\u001b[1;33m.\u001b[0m\u001b[0mget_loc\u001b[0m\u001b[1;33m(\u001b[0m\u001b[0mkey\u001b[0m\u001b[1;33m)\u001b[0m\u001b[1;33m\u001b[0m\u001b[1;33m\u001b[0m\u001b[0m\n\u001b[0;32m   2898\u001b[0m             \u001b[1;32mexcept\u001b[0m \u001b[0mKeyError\u001b[0m\u001b[1;33m:\u001b[0m\u001b[1;33m\u001b[0m\u001b[1;33m\u001b[0m\u001b[0m\n\u001b[1;32m-> 2899\u001b[1;33m                 \u001b[1;32mreturn\u001b[0m \u001b[0mself\u001b[0m\u001b[1;33m.\u001b[0m\u001b[0m_engine\u001b[0m\u001b[1;33m.\u001b[0m\u001b[0mget_loc\u001b[0m\u001b[1;33m(\u001b[0m\u001b[0mself\u001b[0m\u001b[1;33m.\u001b[0m\u001b[0m_maybe_cast_indexer\u001b[0m\u001b[1;33m(\u001b[0m\u001b[0mkey\u001b[0m\u001b[1;33m)\u001b[0m\u001b[1;33m)\u001b[0m\u001b[1;33m\u001b[0m\u001b[1;33m\u001b[0m\u001b[0m\n\u001b[0m\u001b[0;32m   2900\u001b[0m         \u001b[0mindexer\u001b[0m \u001b[1;33m=\u001b[0m \u001b[0mself\u001b[0m\u001b[1;33m.\u001b[0m\u001b[0mget_indexer\u001b[0m\u001b[1;33m(\u001b[0m\u001b[1;33m[\u001b[0m\u001b[0mkey\u001b[0m\u001b[1;33m]\u001b[0m\u001b[1;33m,\u001b[0m \u001b[0mmethod\u001b[0m\u001b[1;33m=\u001b[0m\u001b[0mmethod\u001b[0m\u001b[1;33m,\u001b[0m \u001b[0mtolerance\u001b[0m\u001b[1;33m=\u001b[0m\u001b[0mtolerance\u001b[0m\u001b[1;33m)\u001b[0m\u001b[1;33m\u001b[0m\u001b[1;33m\u001b[0m\u001b[0m\n\u001b[0;32m   2901\u001b[0m         \u001b[1;32mif\u001b[0m \u001b[0mindexer\u001b[0m\u001b[1;33m.\u001b[0m\u001b[0mndim\u001b[0m \u001b[1;33m>\u001b[0m \u001b[1;36m1\u001b[0m \u001b[1;32mor\u001b[0m \u001b[0mindexer\u001b[0m\u001b[1;33m.\u001b[0m\u001b[0msize\u001b[0m \u001b[1;33m>\u001b[0m \u001b[1;36m1\u001b[0m\u001b[1;33m:\u001b[0m\u001b[1;33m\u001b[0m\u001b[1;33m\u001b[0m\u001b[0m\n",
      "\u001b[1;32mpandas\\_libs\\index.pyx\u001b[0m in \u001b[0;36mpandas._libs.index.IndexEngine.get_loc\u001b[1;34m()\u001b[0m\n",
      "\u001b[1;32mpandas\\_libs\\index.pyx\u001b[0m in \u001b[0;36mpandas._libs.index.IndexEngine.get_loc\u001b[1;34m()\u001b[0m\n",
      "\u001b[1;32mpandas\\_libs\\hashtable_class_helper.pxi\u001b[0m in \u001b[0;36mpandas._libs.hashtable.PyObjectHashTable.get_item\u001b[1;34m()\u001b[0m\n",
      "\u001b[1;32mpandas\\_libs\\hashtable_class_helper.pxi\u001b[0m in \u001b[0;36mpandas._libs.hashtable.PyObjectHashTable.get_item\u001b[1;34m()\u001b[0m\n",
      "\u001b[1;31mKeyError\u001b[0m: 'BLDFIE'"
     ]
    }
   ],
   "source": [
    "# get the data with one property\n",
    "sigData = pd.DataFrame(resp.json()).loc[property]"
   ]
  },
  {
   "cell_type": "code",
   "execution_count": 5,
   "metadata": {},
   "outputs": [],
   "source": [
    "# only get useful column - 'properties'\n",
    "# transform the dictionay 'properties' as dataframe\n",
    "transData = pd.DataFrame.from_dict(sigData.properties)"
   ]
  },
  {
   "cell_type": "code",
   "execution_count": 6,
   "metadata": {},
   "outputs": [],
   "source": [
    "# if we still keep two decimals\n",
    "# none values for this specific coordinates\n",
    "if all(v is None for v in transData.M) == True:\n",
    "    resp = requests.get(webPath + str(round(long, 1)) +\n",
    "                        \"&lat=\" + str(round(lat, 1)) +\n",
    "                        \"&attributes=%s\" % str(property))\n",
    "    sigData = pd.DataFrame(resp.json()).loc[property]\n",
    "    transData = pd.DataFrame.from_dict(sigData.properties)"
   ]
  },
  {
   "cell_type": "code",
   "execution_count": 7,
   "metadata": {},
   "outputs": [
    {
     "data": {
      "text/html": [
       "<div>\n",
       "<style scoped>\n",
       "    .dataframe tbody tr th:only-of-type {\n",
       "        vertical-align: middle;\n",
       "    }\n",
       "\n",
       "    .dataframe tbody tr th {\n",
       "        vertical-align: top;\n",
       "    }\n",
       "\n",
       "    .dataframe thead th {\n",
       "        text-align: right;\n",
       "    }\n",
       "</style>\n",
       "<table border=\"1\" class=\"dataframe\">\n",
       "  <thead>\n",
       "    <tr style=\"text-align: right;\">\n",
       "      <th></th>\n",
       "      <th>BLDFIE_sl1</th>\n",
       "      <th>BLDFIE_sl2</th>\n",
       "      <th>BLDFIE_sl3</th>\n",
       "      <th>BLDFIE_sl4</th>\n",
       "      <th>BLDFIE_sl5</th>\n",
       "      <th>BLDFIE_sl6</th>\n",
       "      <th>BLDFIE_sl7</th>\n",
       "    </tr>\n",
       "  </thead>\n",
       "  <tbody>\n",
       "    <tr>\n",
       "      <td>0</td>\n",
       "      <td>1214</td>\n",
       "      <td>1319</td>\n",
       "      <td>1391</td>\n",
       "      <td>1500</td>\n",
       "      <td>1568</td>\n",
       "      <td>1593</td>\n",
       "      <td>1584</td>\n",
       "    </tr>\n",
       "  </tbody>\n",
       "</table>\n",
       "</div>"
      ],
      "text/plain": [
       "  BLDFIE_sl1 BLDFIE_sl2 BLDFIE_sl3 BLDFIE_sl4 BLDFIE_sl5 BLDFIE_sl6 BLDFIE_sl7\n",
       "0       1214       1319       1391       1500       1568       1593       1584"
      ]
     },
     "execution_count": 7,
     "metadata": {},
     "output_type": "execute_result"
    }
   ],
   "source": [
    "#  transpose\n",
    "preparedSigData = transData.T.tail(1).add_prefix('%s_'%property).reset_index(drop=True)\n",
    "preparedSigData"
   ]
  },
  {
   "cell_type": "markdown",
   "metadata": {},
   "source": [
    "# Top three soil types"
   ]
  },
  {
   "cell_type": "code",
   "execution_count": 8,
   "metadata": {},
   "outputs": [],
   "source": [
    "classProperties = ['TAXNWRB', 'TAXOUSDA']\n",
    "property = 'TAXNWRB'"
   ]
  },
  {
   "cell_type": "code",
   "execution_count": 9,
   "metadata": {},
   "outputs": [],
   "source": [
    "resp = requests.get(webPath + str(round(long,2)) +\n",
    "                    \"&lat=\" + str(round(lat,2)) + \"&attributes=%s\"%str(property))"
   ]
  },
  {
   "cell_type": "code",
   "execution_count": 10,
   "metadata": {},
   "outputs": [],
   "source": [
    "# no this property existed for the coordinates, then round 1\n",
    "if (property not in pd.DataFrame(resp.json()).index) == True:\n",
    "    resp = requests.get(webPath + str(round(long, 1)) +\n",
    "                        \"&lat=\" + str(round(lat, 1)) + \"&attributes=%s\" % str(property))"
   ]
  },
  {
   "cell_type": "code",
   "execution_count": 11,
   "metadata": {},
   "outputs": [
    {
     "data": {
      "text/plain": [
       "{'Acric Ferralsols': 0,\n",
       " 'Acric Plinthosols': 0,\n",
       " 'Albic Arenosols': 0,\n",
       " 'Albic Luvisols': 0,\n",
       " 'Alic Nitisols': 1,\n",
       " 'Aluandic Andosols': 1,\n",
       " 'Aric Regosols': 1,\n",
       " 'Calcaric Regosols': 1,\n",
       " 'Calcic Chernozems': 0,\n",
       " 'Calcic Gleysols': 0,\n",
       " 'Calcic Gypsisols': 0,\n",
       " 'Calcic Histosols': 0,\n",
       " 'Calcic Kastanozems': 0,\n",
       " 'Calcic Luvisols': 0,\n",
       " 'Calcic Solonetz': 0,\n",
       " 'Calcic Vertisols': 3,\n",
       " 'Cryic Histosols': 0,\n",
       " 'Cutanic Alisols': 0,\n",
       " 'Endogleyic Cambisols': 0,\n",
       " 'Endogleyic Planosols': 0,\n",
       " 'Ferralic Arenosols': 0,\n",
       " 'Ferralic Cambisols': 0,\n",
       " 'Fibric Histosols': 0,\n",
       " 'Gleyic Luvisols': 1,\n",
       " 'Gleyic Podzols': 4,\n",
       " 'Gleyic Solonetz': 1,\n",
       " 'Gypsic Solonchaks': 0,\n",
       " 'Haplic Acrisols': 15,\n",
       " 'Haplic Acrisols (Alumic)': 0,\n",
       " 'Haplic Acrisols (Ferric)': 1,\n",
       " 'Haplic Acrisols (Humic)': 0,\n",
       " 'Haplic Albeluvisols': 1,\n",
       " 'Haplic Alisols': 4,\n",
       " 'Haplic Andosols': 0,\n",
       " 'Haplic Arenosols': 17,\n",
       " 'Haplic Arenosols (Calcaric)': 0,\n",
       " 'Haplic Calcisols': 0,\n",
       " 'Haplic Calcisols (Sodic)': 0,\n",
       " 'Haplic Cambisols': 2,\n",
       " 'Haplic Cambisols (Calcaric)': 0,\n",
       " 'Haplic Cambisols (Chromic)': 0,\n",
       " 'Haplic Cambisols (Dystric)': 2,\n",
       " 'Haplic Cambisols (Eutric)': 0,\n",
       " 'Haplic Cambisols (Humic)': 1,\n",
       " 'Haplic Cambisols (Sodic)': 0,\n",
       " 'Haplic Chernozems': 2,\n",
       " 'Haplic Cryosols': 0,\n",
       " 'Haplic Ferralsols': 1,\n",
       " 'Haplic Ferralsols (Rhodic)': 0,\n",
       " 'Haplic Ferralsols (Xanthic)': 0,\n",
       " 'Haplic Fluvisols': 2,\n",
       " 'Haplic Fluvisols (Arenic)': 0,\n",
       " 'Haplic Fluvisols (Calcaric)': 0,\n",
       " 'Haplic Fluvisols (Dystric)': 1,\n",
       " 'Haplic Fluvisols (Eutric)': 1,\n",
       " 'Haplic Gleysols': 5,\n",
       " 'Haplic Gleysols (Dystric)': 0,\n",
       " 'Haplic Gleysols (Eutric)': 2,\n",
       " 'Haplic Gypsisols': 0,\n",
       " 'Haplic Kastanozems': 0,\n",
       " 'Haplic Leptosols': 0,\n",
       " 'Haplic Leptosols (Eutric)': 0,\n",
       " 'Haplic Lixisols': 0,\n",
       " 'Haplic Lixisols (Chromic)': 0,\n",
       " 'Haplic Lixisols (Ferric)': 0,\n",
       " 'Haplic Luvisols': 6,\n",
       " 'Haplic Luvisols (Chromic)': 0,\n",
       " 'Haplic Luvisols (Ferric)': 0,\n",
       " 'Haplic Nitisols (Rhodic)': 1,\n",
       " 'Haplic Phaeozems': 1,\n",
       " 'Haplic Planosols (Dystric)': 0,\n",
       " 'Haplic Planosols (Eutric)': 0,\n",
       " 'Haplic Podzols': 6,\n",
       " 'Haplic Regosols (Dystric)': 0,\n",
       " 'Haplic Regosols (Eutric)': 0,\n",
       " 'Haplic Regosols (Sodic)': 1,\n",
       " 'Haplic Solonchaks': 1,\n",
       " 'Haplic Solonchaks (Sodic)': 0,\n",
       " 'Haplic Solonetz': 0,\n",
       " 'Haplic Umbrisols': 0,\n",
       " 'Haplic Vertisols': 3,\n",
       " 'Haplic Vertisols (Eutric)': 1,\n",
       " 'Hemic Histosols': 0,\n",
       " 'Histic Albeluvisols': 0,\n",
       " 'Hypoluvic Arenosols': 1,\n",
       " 'Leptic Cambisols': 0,\n",
       " 'Leptic Luvisols': 0,\n",
       " 'Leptic Phaeozems': 0,\n",
       " 'Leptic Regosols': 0,\n",
       " 'Leptic Umbrisols': 0,\n",
       " 'Lithic Leptosols': 0,\n",
       " 'Lixic Plinthosols': 0,\n",
       " 'Luvic Calcisols': 0,\n",
       " 'Luvic Chernozems': 0,\n",
       " 'Luvic Phaeozems': 1,\n",
       " 'Luvic Planosols': 0,\n",
       " 'Luvic Stagnosols': 0,\n",
       " 'Mollic Gleysols': 0,\n",
       " 'Mollic Leptosols': 0,\n",
       " 'Mollic Solonetz': 0,\n",
       " 'Mollic Vertisols': 0,\n",
       " 'Petric Calcisols': 0,\n",
       " 'Petric Durisols': 0,\n",
       " 'Plinthic Acrisols': 0,\n",
       " 'Protic Arenosols': 1,\n",
       " 'Rendzic Leptosols': 0,\n",
       " 'Sapric Histosols': 1,\n",
       " 'Solodic Planosols': 0,\n",
       " 'Stagnic Luvisols': 1,\n",
       " 'Turbic Cryosols': 0,\n",
       " 'Umbric Albeluvisols': 0,\n",
       " 'Umbric Ferralsols': 0,\n",
       " 'Umbric Gleysols': 0,\n",
       " 'Vertic Cambisols': 0,\n",
       " 'Vertic Luvisols': 1,\n",
       " 'Vetic Acrisols': 0,\n",
       " 'Vitric Andosols': 0,\n",
       " 'Vitric Cryosols': 0}"
      ]
     },
     "execution_count": 11,
     "metadata": {},
     "output_type": "execute_result"
    }
   ],
   "source": [
    "sigData = pd.DataFrame(resp.json())\n",
    "classDict = sigData.loc[property].properties\n",
    "classDict"
   ]
  },
  {
   "cell_type": "code",
   "execution_count": 12,
   "metadata": {},
   "outputs": [],
   "source": [
    "# none values of property for this specific coordinates is higher than 95%, then round1\n",
    "if sum(v is None for v in classDict.values())/len(classDict) > 0.95:\n",
    "    print (\"round 2: none values of property for this specific coordinates\")\n",
    "    resp = requests.get(webPath + str(round(long, 1)) +\n",
    "                        \"&lat=\" + str(round(lat, 1)) + \"&attributes=%s\" % str(property))\n",
    "    sigData = pd.DataFrame(resp.json())\n",
    "    classDict = sigData.loc[property].properties\n",
    "\n",
    "    # none value for round 1 is still higher than 95%, then imputation with np.nan\n",
    "    if sum(v is None for v in classDict.values())/len(classDict) > 0.95:\n",
    "        print (\"round 1:none values of property for this specific coordinates\")\n",
    "        mostProbClassDict = {'%s_Class1' % property: np.nan, '%s_Class2' % property: np.nan,\n",
    "                             '%s_Class3' % property: np.nan}\n",
    "        sigClassData = pd.DataFrame(mostProbClassDict, index=[0])\n",
    "        soilClassData = pd.concat([soilClassData, sigClassData], axis=1)   "
   ]
  },
  {
   "cell_type": "code",
   "execution_count": 13,
   "metadata": {},
   "outputs": [],
   "source": [
    "sortedDict = sorted(classDict, key=lambda k: classDict[k], reverse=True)\n",
    "\n",
    "# get top three classes with high probability\n",
    "mostProbClassDict = {'%s_Class1' % property: sortedDict[0], '%s_Class2' % property: sortedDict[1],\n",
    "                     '%s_Class3' % property: sortedDict[2]}\n",
    "\n",
    "sigClassData = pd.DataFrame(mostProbClassDict, index=[0])"
   ]
  },
  {
   "cell_type": "code",
   "execution_count": 14,
   "metadata": {},
   "outputs": [
    {
     "data": {
      "text/html": [
       "<div>\n",
       "<style scoped>\n",
       "    .dataframe tbody tr th:only-of-type {\n",
       "        vertical-align: middle;\n",
       "    }\n",
       "\n",
       "    .dataframe tbody tr th {\n",
       "        vertical-align: top;\n",
       "    }\n",
       "\n",
       "    .dataframe thead th {\n",
       "        text-align: right;\n",
       "    }\n",
       "</style>\n",
       "<table border=\"1\" class=\"dataframe\">\n",
       "  <thead>\n",
       "    <tr style=\"text-align: right;\">\n",
       "      <th></th>\n",
       "      <th>TAXNWRB_Class1</th>\n",
       "      <th>TAXNWRB_Class2</th>\n",
       "      <th>TAXNWRB_Class3</th>\n",
       "    </tr>\n",
       "  </thead>\n",
       "  <tbody>\n",
       "    <tr>\n",
       "      <td>0</td>\n",
       "      <td>Haplic Arenosols</td>\n",
       "      <td>Haplic Acrisols</td>\n",
       "      <td>Haplic Luvisols</td>\n",
       "    </tr>\n",
       "  </tbody>\n",
       "</table>\n",
       "</div>"
      ],
      "text/plain": [
       "     TAXNWRB_Class1   TAXNWRB_Class2   TAXNWRB_Class3\n",
       "0  Haplic Arenosols  Haplic Acrisols  Haplic Luvisols"
      ]
     },
     "execution_count": 14,
     "metadata": {},
     "output_type": "execute_result"
    }
   ],
   "source": [
    "sigClassData.head(2)"
   ]
  }
 ],
 "metadata": {
  "kernelspec": {
   "display_name": "Python 3",
   "language": "python",
   "name": "python3"
  },
  "language_info": {
   "codemirror_mode": {
    "name": "ipython",
    "version": 3
   },
   "file_extension": ".py",
   "mimetype": "text/x-python",
   "name": "python",
   "nbconvert_exporter": "python",
   "pygments_lexer": "ipython3",
   "version": "3.7.3"
  },
  "pycharm": {
   "stem_cell": {
    "cell_type": "raw",
    "metadata": {
     "collapsed": false
    },
    "source": []
   }
  },
  "toc": {
   "base_numbering": 1,
   "nav_menu": {},
   "number_sections": true,
   "sideBar": true,
   "skip_h1_title": false,
   "title_cell": "Table of Contents",
   "title_sidebar": "Contents",
   "toc_cell": false,
   "toc_position": {},
   "toc_section_display": true,
   "toc_window_display": true
  }
 },
 "nbformat": 4,
 "nbformat_minor": 2
}
