{
 "cells": [
  {
   "cell_type": "code",
   "execution_count": 1,
   "metadata": {},
   "outputs": [],
   "source": [
    "import requests\n",
    "import pandas as pd"
   ]
  },
  {
   "cell_type": "markdown",
   "metadata": {},
   "source": [
    "# soil properties\n",
    "- for one coordinaters\n",
    "- for one property"
   ]
  },
  {
   "cell_type": "markdown",
   "metadata": {},
   "source": [
    " Varaibles\n",
    " - Physical soil properties\n",
    "     - BLDFIE: Bulk Density ('kg/cubic_m')\n",
    "     - CLYPPT: Caly Content (percent)\n",
    "     - CRFVOL: Coarse Fragements Volumetric (%) (percent)\n",
    "     - SLTPPT: Slit Content (percent)\n",
    "     - SNDPPT: Sand Content (percent)\n",
    " - Chemical Soil Properties\n",
    "     - CECSOL: Cation Excahnge capacit of soil (cmol / kg)\n",
    "     - ORCDRC: Soil organic carbon content (g / kg)\n",
    "     - PHIHOX: Soil pH * 10 in H20 (Index*10)\n",
    "     - PHIKCL: Soil pH * 10 in KCL (Index*10)"
   ]
  },
  {
   "cell_type": "markdown",
   "metadata": {},
   "source": [
    "## first we keep 2 decimals for the lat and long "
   ]
  },
  {
   "cell_type": "code",
   "execution_count": 2,
   "metadata": {},
   "outputs": [],
   "source": [
    "#soilProperties =['BLDFIE','CLYPPT','CRFVOL','SLTPPT', 'SNDPPT','CECSOL','ORCDRC','PHIHOX','PHIKCL']\n",
    "lat = round(34.783,2)\n",
    "long = round( -86.550,2)\n",
    "\n",
    "\n",
    "webPath = \"https://rest.soilgrids.org/query?lon=\"\n",
    "property = 'BLDFIE'\n",
    "resp = requests.get(webPath + str(round(long,2)) +\n",
    "        \"&lat=\" + str(round(lat,2)) + \"&attributes=%s\"%str(property))"
   ]
  },
  {
   "cell_type": "markdown",
   "metadata": {},
   "source": [
    "## no this property existed"
   ]
  },
  {
   "cell_type": "code",
   "execution_count": 3,
   "metadata": {},
   "outputs": [],
   "source": [
    "# if there is no this property existed for the coordinates\n",
    "# then keep one decimals\n",
    "if (property not in pd.DataFrame(resp.json()).index) == True:\n",
    "    print ('there is no this property existed for the coordinates')\n",
    "    resp = requests.get(webPath + str(round(long, 1)) +\n",
    "                        \"&lat=\" + str(round(lat, 1)) + \"&attributes=%s\" % str(property))"
   ]
  },
  {
   "cell_type": "code",
   "execution_count": 4,
   "metadata": {},
   "outputs": [],
   "source": [
    "# get the data with one property\n",
    "sigData = pd.DataFrame(resp.json()).loc[property]"
   ]
  },
  {
   "cell_type": "code",
   "execution_count": 5,
   "metadata": {},
   "outputs": [],
   "source": [
    "# only get useful column - 'properties'\n",
    "# transform the dictionay 'properties' as dataframe\n",
    "transData = pd.DataFrame.from_dict(sigData.properties)"
   ]
  },
  {
   "cell_type": "code",
   "execution_count": 6,
   "metadata": {},
   "outputs": [],
   "source": [
    "# if we still keep two decimals\n",
    "# none values for this specific coordinates\n",
    "if all(v is None for v in transData.M) == True:\n",
    "    resp = requests.get(webPath + str(round(long, 1)) +\n",
    "                        \"&lat=\" + str(round(lat, 1)) +\n",
    "                        \"&attributes=%s\" % str(property))\n",
    "    sigData = pd.DataFrame(resp.json()).loc[property]\n",
    "    transData = pd.DataFrame.from_dict(sigData.properties)"
   ]
  },
  {
   "cell_type": "code",
   "execution_count": 7,
   "metadata": {},
   "outputs": [
    {
     "data": {
      "text/html": [
       "<div>\n",
       "<style scoped>\n",
       "    .dataframe tbody tr th:only-of-type {\n",
       "        vertical-align: middle;\n",
       "    }\n",
       "\n",
       "    .dataframe tbody tr th {\n",
       "        vertical-align: top;\n",
       "    }\n",
       "\n",
       "    .dataframe thead th {\n",
       "        text-align: right;\n",
       "    }\n",
       "</style>\n",
       "<table border=\"1\" class=\"dataframe\">\n",
       "  <thead>\n",
       "    <tr style=\"text-align: right;\">\n",
       "      <th></th>\n",
       "      <th>BLDFIE_sl1</th>\n",
       "      <th>BLDFIE_sl2</th>\n",
       "      <th>BLDFIE_sl3</th>\n",
       "      <th>BLDFIE_sl4</th>\n",
       "      <th>BLDFIE_sl5</th>\n",
       "      <th>BLDFIE_sl6</th>\n",
       "      <th>BLDFIE_sl7</th>\n",
       "    </tr>\n",
       "  </thead>\n",
       "  <tbody>\n",
       "    <tr>\n",
       "      <td>0</td>\n",
       "      <td>1242</td>\n",
       "      <td>1238</td>\n",
       "      <td>1396</td>\n",
       "      <td>1454</td>\n",
       "      <td>1518</td>\n",
       "      <td>1540</td>\n",
       "      <td>1540</td>\n",
       "    </tr>\n",
       "  </tbody>\n",
       "</table>\n",
       "</div>"
      ],
      "text/plain": [
       "  BLDFIE_sl1 BLDFIE_sl2 BLDFIE_sl3 BLDFIE_sl4 BLDFIE_sl5 BLDFIE_sl6 BLDFIE_sl7\n",
       "0       1242       1238       1396       1454       1518       1540       1540"
      ]
     },
     "execution_count": 7,
     "metadata": {},
     "output_type": "execute_result"
    }
   ],
   "source": [
    "#  transpose\n",
    "preparedSigData = transData.T.tail(1).add_prefix('%s_'%property).reset_index(drop=True)\n",
    "preparedSigData"
   ]
  },
  {
   "cell_type": "markdown",
   "metadata": {},
   "source": [
    "# Top three soil types"
   ]
  },
  {
   "cell_type": "code",
   "execution_count": 8,
   "metadata": {},
   "outputs": [],
   "source": [
    "classProperties = ['TAXNWRB', 'TAXOUSDA']\n",
    "property = 'TAXNWRB'"
   ]
  },
  {
   "cell_type": "code",
   "execution_count": 9,
   "metadata": {},
   "outputs": [],
   "source": [
    "resp = requests.get(webPath + str(round(long,2)) +\n",
    "                    \"&lat=\" + str(round(lat,2)) + \"&attributes=%s\"%str(property))"
   ]
  },
  {
   "cell_type": "code",
   "execution_count": 10,
   "metadata": {},
   "outputs": [],
   "source": [
    "# no this property existed for the coordinates, then round 1\n",
    "if (property not in pd.DataFrame(resp.json()).index) == True:\n",
    "    resp = requests.get(webPath + str(round(long, 1)) +\n",
    "                        \"&lat=\" + str(round(lat, 1)) + \"&attributes=%s\" % str(property))"
   ]
  },
  {
   "cell_type": "code",
   "execution_count": 11,
   "metadata": {},
   "outputs": [
    {
     "data": {
      "text/plain": [
       "{'Acric Ferralsols': 1,\n",
       " 'Acric Plinthosols': 0,\n",
       " 'Albic Arenosols': 0,\n",
       " 'Albic Luvisols': 0,\n",
       " 'Alic Nitisols': 0,\n",
       " 'Aluandic Andosols': 0,\n",
       " 'Aric Regosols': 0,\n",
       " 'Calcaric Regosols': 0,\n",
       " 'Calcic Chernozems': 0,\n",
       " 'Calcic Gleysols': 0,\n",
       " 'Calcic Gypsisols': 0,\n",
       " 'Calcic Histosols': 0,\n",
       " 'Calcic Kastanozems': 0,\n",
       " 'Calcic Luvisols': 0,\n",
       " 'Calcic Solonetz': 0,\n",
       " 'Calcic Vertisols': 0,\n",
       " 'Cryic Histosols': 0,\n",
       " 'Cutanic Alisols': 0,\n",
       " 'Endogleyic Cambisols': 2,\n",
       " 'Endogleyic Planosols': 0,\n",
       " 'Ferralic Arenosols': 0,\n",
       " 'Ferralic Cambisols': 0,\n",
       " 'Fibric Histosols': 0,\n",
       " 'Gleyic Luvisols': 2,\n",
       " 'Gleyic Podzols': 0,\n",
       " 'Gleyic Solonetz': 0,\n",
       " 'Gypsic Solonchaks': 0,\n",
       " 'Haplic Acrisols': 42,\n",
       " 'Haplic Acrisols (Alumic)': 0,\n",
       " 'Haplic Acrisols (Ferric)': 0,\n",
       " 'Haplic Acrisols (Humic)': 1,\n",
       " 'Haplic Albeluvisols': 0,\n",
       " 'Haplic Alisols': 10,\n",
       " 'Haplic Andosols': 0,\n",
       " 'Haplic Arenosols': 0,\n",
       " 'Haplic Arenosols (Calcaric)': 0,\n",
       " 'Haplic Calcisols': 0,\n",
       " 'Haplic Calcisols (Sodic)': 0,\n",
       " 'Haplic Cambisols': 6,\n",
       " 'Haplic Cambisols (Calcaric)': 0,\n",
       " 'Haplic Cambisols (Chromic)': 0,\n",
       " 'Haplic Cambisols (Dystric)': 3,\n",
       " 'Haplic Cambisols (Eutric)': 1,\n",
       " 'Haplic Cambisols (Humic)': 1,\n",
       " 'Haplic Cambisols (Sodic)': 0,\n",
       " 'Haplic Chernozems': 0,\n",
       " 'Haplic Cryosols': 0,\n",
       " 'Haplic Ferralsols': 1,\n",
       " 'Haplic Ferralsols (Rhodic)': 0,\n",
       " 'Haplic Ferralsols (Xanthic)': 0,\n",
       " 'Haplic Fluvisols': 1,\n",
       " 'Haplic Fluvisols (Arenic)': 0,\n",
       " 'Haplic Fluvisols (Calcaric)': 0,\n",
       " 'Haplic Fluvisols (Dystric)': 0,\n",
       " 'Haplic Fluvisols (Eutric)': 0,\n",
       " 'Haplic Gleysols': 1,\n",
       " 'Haplic Gleysols (Dystric)': 0,\n",
       " 'Haplic Gleysols (Eutric)': 0,\n",
       " 'Haplic Gypsisols': 0,\n",
       " 'Haplic Kastanozems': 1,\n",
       " 'Haplic Leptosols': 0,\n",
       " 'Haplic Leptosols (Eutric)': 0,\n",
       " 'Haplic Lixisols': 0,\n",
       " 'Haplic Lixisols (Chromic)': 0,\n",
       " 'Haplic Lixisols (Ferric)': 0,\n",
       " 'Haplic Luvisols': 20,\n",
       " 'Haplic Luvisols (Chromic)': 0,\n",
       " 'Haplic Luvisols (Ferric)': 0,\n",
       " 'Haplic Nitisols (Rhodic)': 0,\n",
       " 'Haplic Phaeozems': 1,\n",
       " 'Haplic Planosols (Dystric)': 0,\n",
       " 'Haplic Planosols (Eutric)': 0,\n",
       " 'Haplic Podzols': 0,\n",
       " 'Haplic Regosols (Dystric)': 1,\n",
       " 'Haplic Regosols (Eutric)': 0,\n",
       " 'Haplic Regosols (Sodic)': 0,\n",
       " 'Haplic Solonchaks': 0,\n",
       " 'Haplic Solonchaks (Sodic)': 0,\n",
       " 'Haplic Solonetz': 0,\n",
       " 'Haplic Umbrisols': 0,\n",
       " 'Haplic Vertisols': 2,\n",
       " 'Haplic Vertisols (Eutric)': 0,\n",
       " 'Hemic Histosols': 0,\n",
       " 'Histic Albeluvisols': 0,\n",
       " 'Hypoluvic Arenosols': 0,\n",
       " 'Leptic Cambisols': 0,\n",
       " 'Leptic Luvisols': 0,\n",
       " 'Leptic Phaeozems': 0,\n",
       " 'Leptic Regosols': 0,\n",
       " 'Leptic Umbrisols': 0,\n",
       " 'Lithic Leptosols': 1,\n",
       " 'Lixic Plinthosols': 0,\n",
       " 'Luvic Calcisols': 0,\n",
       " 'Luvic Chernozems': 1,\n",
       " 'Luvic Phaeozems': 0,\n",
       " 'Luvic Planosols': 0,\n",
       " 'Luvic Stagnosols': 0,\n",
       " 'Mollic Gleysols': 0,\n",
       " 'Mollic Leptosols': 0,\n",
       " 'Mollic Solonetz': 0,\n",
       " 'Mollic Vertisols': 0,\n",
       " 'Petric Calcisols': 0,\n",
       " 'Petric Durisols': 0,\n",
       " 'Plinthic Acrisols': 0,\n",
       " 'Protic Arenosols': 0,\n",
       " 'Rendzic Leptosols': 0,\n",
       " 'Sapric Histosols': 0,\n",
       " 'Solodic Planosols': 0,\n",
       " 'Stagnic Luvisols': 0,\n",
       " 'Turbic Cryosols': 0,\n",
       " 'Umbric Albeluvisols': 0,\n",
       " 'Umbric Ferralsols': 0,\n",
       " 'Umbric Gleysols': 0,\n",
       " 'Vertic Cambisols': 0,\n",
       " 'Vertic Luvisols': 0,\n",
       " 'Vetic Acrisols': 0,\n",
       " 'Vitric Andosols': 0,\n",
       " 'Vitric Cryosols': 0}"
      ]
     },
     "execution_count": 11,
     "metadata": {},
     "output_type": "execute_result"
    }
   ],
   "source": [
    "sigData = pd.DataFrame(resp.json())\n",
    "classDict = sigData.loc[property].properties\n",
    "classDict"
   ]
  },
  {
   "cell_type": "code",
   "execution_count": 12,
   "metadata": {},
   "outputs": [],
   "source": [
    "# none values of property for this specific coordinates is higher than 95%, then round1\n",
    "if sum(v is None for v in classDict.values())/len(classDict) > 0.95:\n",
    "    print (\"round 2: none values of property for this specific coordinates\")\n",
    "    resp = requests.get(webPath + str(round(long, 1)) +\n",
    "                        \"&lat=\" + str(round(lat, 1)) + \"&attributes=%s\" % str(property))\n",
    "    sigData = pd.DataFrame(resp.json())\n",
    "    classDict = sigData.loc[property].properties\n",
    "\n",
    "    # none value for round 1 is still higher than 95%, then imputation with np.nan\n",
    "    if sum(v is None for v in classDict.values())/len(classDict) > 0.95:\n",
    "        print (\"round 1:none values of property for this specific coordinates\")\n",
    "        mostProbClassDict = {'%s_Class1' % property: np.nan, '%s_Class2' % property: np.nan,\n",
    "                             '%s_Class3' % property: np.nan}\n",
    "        sigClassData = pd.DataFrame(mostProbClassDict, index=[0])\n",
    "        soilClassData = pd.concat([soilClassData, sigClassData], axis=1)   "
   ]
  },
  {
   "cell_type": "code",
   "execution_count": 13,
   "metadata": {},
   "outputs": [],
   "source": [
    "sortedDict = sorted(classDict, key=lambda k: classDict[k], reverse=True)\n",
    "\n",
    "# get top three classes with high probability\n",
    "mostProbClassDict = {'%s_Class1' % property: sortedDict[0], '%s_Class2' % property: sortedDict[1],\n",
    "                     '%s_Class3' % property: sortedDict[2]}\n",
    "\n",
    "sigClassData = pd.DataFrame(mostProbClassDict, index=[0])"
   ]
  },
  {
   "cell_type": "code",
   "execution_count": 14,
   "metadata": {},
   "outputs": [
    {
     "data": {
      "text/html": [
       "<div>\n",
       "<style scoped>\n",
       "    .dataframe tbody tr th:only-of-type {\n",
       "        vertical-align: middle;\n",
       "    }\n",
       "\n",
       "    .dataframe tbody tr th {\n",
       "        vertical-align: top;\n",
       "    }\n",
       "\n",
       "    .dataframe thead th {\n",
       "        text-align: right;\n",
       "    }\n",
       "</style>\n",
       "<table border=\"1\" class=\"dataframe\">\n",
       "  <thead>\n",
       "    <tr style=\"text-align: right;\">\n",
       "      <th></th>\n",
       "      <th>TAXNWRB_Class1</th>\n",
       "      <th>TAXNWRB_Class2</th>\n",
       "      <th>TAXNWRB_Class3</th>\n",
       "    </tr>\n",
       "  </thead>\n",
       "  <tbody>\n",
       "    <tr>\n",
       "      <td>0</td>\n",
       "      <td>Haplic Acrisols</td>\n",
       "      <td>Haplic Luvisols</td>\n",
       "      <td>Haplic Alisols</td>\n",
       "    </tr>\n",
       "  </tbody>\n",
       "</table>\n",
       "</div>"
      ],
      "text/plain": [
       "    TAXNWRB_Class1   TAXNWRB_Class2  TAXNWRB_Class3\n",
       "0  Haplic Acrisols  Haplic Luvisols  Haplic Alisols"
      ]
     },
     "execution_count": 14,
     "metadata": {},
     "output_type": "execute_result"
    }
   ],
   "source": [
    "sigClassData.head(2)"
   ]
  }
 ],
 "metadata": {
  "kernelspec": {
   "display_name": "Python 3",
   "language": "python",
   "name": "python3"
  },
  "language_info": {
   "codemirror_mode": {
    "name": "ipython",
    "version": 3
   },
   "file_extension": ".py",
   "mimetype": "text/x-python",
   "name": "python",
   "nbconvert_exporter": "python",
   "pygments_lexer": "ipython3",
   "version": "3.7.3"
  },
  "toc": {
   "base_numbering": 1,
   "nav_menu": {},
   "number_sections": true,
   "sideBar": true,
   "skip_h1_title": false,
   "title_cell": "Table of Contents",
   "title_sidebar": "Contents",
   "toc_cell": false,
   "toc_position": {},
   "toc_section_display": true,
   "toc_window_display": true
  }
 },
 "nbformat": 4,
 "nbformat_minor": 2
}
